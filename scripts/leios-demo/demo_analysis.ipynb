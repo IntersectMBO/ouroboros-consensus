{
 "cells": [
  {
   "cell_type": "markdown",
   "id": "c4106e57-a8de-4200-9ad1-2eab21bedbbd",
   "metadata": {},
   "source": [
    "## Imports"
   ]
  },
  {
   "cell_type": "code",
   "execution_count": null,
   "id": "34d6fcb0-7a19-4bcd-940f-4553a53b2334",
   "metadata": {},
   "outputs": [],
   "source": [
    "import json\n",
    "import pandas as pd\n",
    "import altair as alt\n",
    "import plotly.express as px\n",
    "from jupyter_utils import *"
   ]
  },
  {
   "cell_type": "markdown",
   "id": "b30e49a3-01f2-4941-9521-9fcfb7ae1985",
   "metadata": {},
   "source": [
    "## Load data"
   ]
  },
  {
   "cell_type": "code",
   "execution_count": null,
   "id": "fb9e23cd-9257-40a4-bd56-2e76797294a5",
   "metadata": {},
   "outputs": [],
   "source": [
    "# cardano_node_0_df, cardano_node_0_df and all_df\n",
    "\n",
    "cardano_node_0_df = df_from_cardano_node_logs(\"data/cardano-node-0.log\")\n",
    "cardano_node_1_df = df_from_cardano_node_logs(\"data/cardano-node-1.log\")\n",
    "\n",
    "# all_df = pd.concat([cardano_node_0_df.assign(source=\"cardano-node-0\"), cardano_node_1_df.assign(source=\"cardano-node-1\")])\n",
    "all_df = df_from_cardano_node_journal(\"data/cardano-node.logs.json\")\n",
    "\n",
    "all_df"
   ]
  },
  {
   "cell_type": "markdown",
   "id": "8c524cdc-5d04-4e92-a18d-632441c61fb0",
   "metadata": {},
   "source": [
    "## Quick refresher"
   ]
  },
  {
   "cell_type": "code",
   "execution_count": null,
   "id": "b3a4c630-bec8-433d-9bbd-1c7510ab7606",
   "metadata": {
    "editable": true,
    "slideshow": {
     "slide_type": ""
    },
    "tags": []
   },
   "outputs": [],
   "source": [
    "# Events\n",
    "\n",
    "events_chart(all_df, 'source', 'ns')"
   ]
  },
  {
   "cell_type": "code",
   "execution_count": null,
   "id": "9b14673f-2800-47fa-97e6-44723bacebd5",
   "metadata": {},
   "outputs": [],
   "source": [
    "# SELECT * FROM all_df WHERE sev = 'Error'\n",
    "error_df = all_df[all_df.sev == \"Error\"]\n",
    "display(events_chart(error_df, \"source\", \"ns\"))\n",
    "error_df"
   ]
  },
  {
   "cell_type": "code",
   "execution_count": null,
   "id": "6fa79265-32db-4834-b54c-e7362fa5ece1",
   "metadata": {},
   "outputs": [],
   "source": [
    "# SELECT DISTINCT_COUNT(ns), ARG_MAX(ns), ARG_MIN(ns), ARG_MAX(sev), ARG_MIN(sev) FROM all_df GROUP BY source \n",
    "all_df.groupby('source').agg({\n",
    "    'ns': ['nunique', 'max', 'min'],\n",
    "    'sev': ['max', 'min']\n",
    "})"
   ]
  },
  {
   "cell_type": "markdown",
   "id": "3f5d9494-7f67-47fc-b356-dc6db95f6b7b",
   "metadata": {},
   "source": [
    "## Block related logs"
   ]
  },
  {
   "cell_type": "code",
   "execution_count": null,
   "id": "54fdda99-554a-4bc3-8a9e-fb346487f4ed",
   "metadata": {},
   "outputs": [],
   "source": [
    "block_df = all_df[all_df.ns.isin(NS_WITH_BLOCK_HASH) & (~all_df.apply(is_exception, axis=1))]\n",
    "\n",
    "block_df.loc[:, 'block'] = block_df.apply(lambda r: extract_block_hash(r)[:10], axis=1)\n",
    "\n",
    "block_df"
   ]
  },
  {
   "cell_type": "code",
   "execution_count": null,
   "id": "bc51e1c8-bd41-4bc9-af82-56eb46c21fe8",
   "metadata": {},
   "outputs": [],
   "source": [
    "events_chart(block_df, \"block\", \"source\")"
   ]
  }
 ],
 "metadata": {
  "kernelspec": {
   "display_name": "Python 3 (ipykernel)",
   "language": "python",
   "name": "python3"
  },
  "language_info": {
   "codemirror_mode": {
    "name": "ipython",
    "version": 3
   },
   "file_extension": ".py",
   "mimetype": "text/x-python",
   "name": "python",
   "nbconvert_exporter": "python",
   "pygments_lexer": "ipython3",
   "version": "3.13.8"
  }
 },
 "nbformat": 4,
 "nbformat_minor": 5
}
