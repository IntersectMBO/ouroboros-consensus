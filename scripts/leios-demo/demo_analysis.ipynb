{
 "cells": [
  {
   "cell_type": "code",
   "execution_count": null,
   "id": "34d6fcb0-7a19-4bcd-940f-4553a53b2334",
   "metadata": {},
   "outputs": [],
   "source": [
    "import json\n",
    "import pandas as pd\n",
    "import altair as alt\n",
    "from itables import init_notebook_mode\n",
    "\n",
    "init_notebook_mode(all_interactive=True)\n",
    "\n",
    "def df_from_cardano_node_logs(fp):\n",
    "    lines = open(fp, \"r\").readlines()\n",
    "    at_lines = [ json.loads(line) for line in lines if line.startswith('{\"at') ]\n",
    "    return pd.DataFrame.from_records(at_lines)\n",
    "\n",
    "cardano_node_0_df = df_from_cardano_node_logs(\"data/cardano-node-0.log\")\n",
    "cardano_node_1_df = df_from_cardano_node_logs(\"data/cardano-node-1.log\")\n",
    "\n",
    "all_logs = pd.concat([cardano_node_0_df.assign(source=\"cardano-node-0\"), cardano_node_1_df.assign(source=\"cardano-node-1\")])\n",
    "\n",
    "all_logs"
   ]
  },
  {
   "cell_type": "code",
   "execution_count": null,
   "id": "9b14673f-2800-47fa-97e6-44723bacebd5",
   "metadata": {},
   "outputs": [],
   "source": [
    "# SELECT * FROM all_logs WHERE sev = 'Critical'\n",
    "all_logs[all_logs.sev == \"Critical\"]"
   ]
  },
  {
   "cell_type": "code",
   "execution_count": null,
   "id": "6fa79265-32db-4834-b54c-e7362fa5ece1",
   "metadata": {},
   "outputs": [],
   "source": [
    "# SELECT DISTINCT_COUNT(ns), ARG_MAX(ns), ARG_MIN(ns), ARG_MAX(sev), ARG_MIN(sev) FROM all_logs GROUP BY source \n",
    "all_logs.groupby('source').agg({\n",
    "    'ns': ['nunique', 'max', 'min'],\n",
    "    'sev': ['max', 'min']\n",
    "})"
   ]
  },
  {
   "cell_type": "code",
   "execution_count": null,
   "id": "331c6927-efe0-461c-b504-bce026f94b14",
   "metadata": {},
   "outputs": [],
   "source": [
    "all_logs.groupby('ns').count()"
   ]
  },
  {
   "cell_type": "code",
   "execution_count": null,
   "id": "147ede1a-0363-434d-bea8-e1f51219a56f",
   "metadata": {},
   "outputs": [],
   "source": [
    "latency_logs_df = all_logs[all_logs.ns.isin([\"BlockFetch.Client.CompletedBlockFetch\", \"ChainSync.Client.DownloadedHeader\"])]\n",
    "latency_logs_df.loc[:, 'block'] = latency_logs_df.apply(lambda r: r.data['block'], axis=1)"
   ]
  },
  {
   "cell_type": "code",
   "execution_count": null,
   "id": "8892142d-3487-4b9e-a0cc-a1cebdc77df6",
   "metadata": {},
   "outputs": [],
   "source": [
    "latency_logs_df.groupby(['block', 'source', 'ns']).agg({\n",
    "    'at': ['count', 'min', 'max']\n",
    "})"
   ]
  }
 ],
 "metadata": {
  "kernelspec": {
   "display_name": "Python 3 (ipykernel)",
   "language": "python",
   "name": "python3"
  },
  "language_info": {
   "codemirror_mode": {
    "name": "ipython",
    "version": 3
   },
   "file_extension": ".py",
   "mimetype": "text/x-python",
   "name": "python",
   "nbconvert_exporter": "python",
   "pygments_lexer": "ipython3",
   "version": "3.13.8"
  }
 },
 "nbformat": 4,
 "nbformat_minor": 5
}
