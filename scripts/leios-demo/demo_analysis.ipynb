{
 "cells": [
  {
   "cell_type": "markdown",
   "id": "c4106e57-a8de-4200-9ad1-2eab21bedbbd",
   "metadata": {},
   "source": [
    "## Imports"
   ]
  },
  {
   "cell_type": "code",
   "execution_count": null,
   "id": "34d6fcb0-7a19-4bcd-940f-4553a53b2334",
   "metadata": {
    "jupyter": {
     "source_hidden": true
    }
   },
   "outputs": [],
   "source": [
    "import json\n",
    "import pandas as pd\n",
    "import altair as alt\n",
    "from itables import init_notebook_mode\n",
    "import ipywidgets as widgets\n",
    "\n",
    "init_notebook_mode(all_interactive=True)"
   ]
  },
  {
   "cell_type": "markdown",
   "id": "b30e49a3-01f2-4941-9521-9fcfb7ae1985",
   "metadata": {},
   "source": [
    "## Load data"
   ]
  },
  {
   "cell_type": "code",
   "execution_count": null,
   "id": "fb9e23cd-9257-40a4-bd56-2e76797294a5",
   "metadata": {
    "jupyter": {
     "source_hidden": true
    }
   },
   "outputs": [],
   "source": [
    "# cardano_node_0_df, cardano_node_0_df and all_df\n",
    "def df_from_cardano_node_logs(fp):\n",
    "    lines = open(fp, \"r\").readlines()\n",
    "    at_lines = [ json.loads(line) for line in lines if line.startswith('{\"at') ]\n",
    "    return pd.DataFrame.from_records(at_lines)\n",
    "\n",
    "def events_chart(df, eventPrefix):\n",
    "    return alt.Chart(df[df.ns.str.startswith(eventPrefix)].reset_index()).mark_point().encode(\n",
    "        x='at:T',\n",
    "        y='source',\n",
    "        color='ns',\n",
    "        tooltip='ns'\n",
    "    ).interactive()\n",
    "\n",
    "cardano_node_0_df = df_from_cardano_node_logs(\"data/cardano-node-0.log\")\n",
    "cardano_node_1_df = df_from_cardano_node_logs(\"data/cardano-node-1.log\")\n",
    "\n",
    "all_df = pd.concat([cardano_node_0_df.assign(source=\"cardano-node-0\"), cardano_node_1_df.assign(source=\"cardano-node-1\")])\n",
    "\n",
    "all_df"
   ]
  },
  {
   "cell_type": "markdown",
   "id": "8c524cdc-5d04-4e92-a18d-632441c61fb0",
   "metadata": {},
   "source": [
    "## Quick refresher"
   ]
  },
  {
   "cell_type": "code",
   "execution_count": null,
   "id": "b3a4c630-bec8-433d-9bbd-1c7510ab7606",
   "metadata": {
    "editable": true,
    "jupyter": {
     "source_hidden": true
    },
    "slideshow": {
     "slide_type": ""
    },
    "tags": []
   },
   "outputs": [],
   "source": [
    "# ChainSync events\n",
    "\n",
    "events_chart(all_df, 'ChainSync')"
   ]
  },
  {
   "cell_type": "code",
   "execution_count": null,
   "id": "9b14673f-2800-47fa-97e6-44723bacebd5",
   "metadata": {
    "jupyter": {
     "source_hidden": true
    }
   },
   "outputs": [],
   "source": [
    "# SELECT * FROM all_df WHERE sev = 'Error'\n",
    "display(events_chart(all_df[all_df.sev == \"Error\"], \"\"))\n",
    "all_df[all_df.sev == \"Error\"]"
   ]
  },
  {
   "cell_type": "code",
   "execution_count": null,
   "id": "6fa79265-32db-4834-b54c-e7362fa5ece1",
   "metadata": {
    "jupyter": {
     "source_hidden": true
    }
   },
   "outputs": [],
   "source": [
    "# SELECT DISTINCT_COUNT(ns), ARG_MAX(ns), ARG_MIN(ns), ARG_MAX(sev), ARG_MIN(sev) FROM all_df GROUP BY source \n",
    "all_df.groupby('source').agg({\n",
    "    'ns': ['nunique', 'max', 'min'],\n",
    "    'sev': ['max', 'min']\n",
    "})"
   ]
  },
  {
   "cell_type": "markdown",
   "id": "76191267-de35-47c0-ba9d-90276a552c13",
   "metadata": {},
   "source": [
    "## Latency"
   ]
  },
  {
   "cell_type": "code",
   "execution_count": null,
   "id": "147ede1a-0363-434d-bea8-e1f51219a56f",
   "metadata": {
    "jupyter": {
     "source_hidden": true
    }
   },
   "outputs": [],
   "source": [
    "latency_logs_df = all_df[all_df.ns.isin([\"BlockFetch.Client.CompletedBlockFetch\", \"ChainSync.Client.DownloadedHeader\"])]\n",
    "latency_logs_df = latency_logs_df.assign(\n",
    "    block=latency_logs_df.data.apply(lambda r: r['block']),\n",
    ")"
   ]
  },
  {
   "cell_type": "code",
   "execution_count": null,
   "id": "8892142d-3487-4b9e-a0cc-a1cebdc77df6",
   "metadata": {
    "jupyter": {
     "source_hidden": true
    }
   },
   "outputs": [],
   "source": [
    "latency_logs_df.groupby(['block', 'source', 'ns']).agg({\n",
    "    'at': ['count', 'min', 'max']\n",
    "})"
   ]
  }
 ],
 "metadata": {
  "kernelspec": {
   "display_name": "Python 3 (ipykernel)",
   "language": "python",
   "name": "python3"
  },
  "language_info": {
   "codemirror_mode": {
    "name": "ipython",
    "version": 3
   },
   "file_extension": ".py",
   "mimetype": "text/x-python",
   "name": "python",
   "nbconvert_exporter": "python",
   "pygments_lexer": "ipython3",
   "version": "3.13.8"
  }
 },
 "nbformat": 4,
 "nbformat_minor": 5
}
